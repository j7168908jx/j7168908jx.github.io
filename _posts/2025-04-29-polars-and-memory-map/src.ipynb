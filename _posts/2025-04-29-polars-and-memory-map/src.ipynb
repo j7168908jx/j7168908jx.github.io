{
 "cells": [
  {
   "cell_type": "markdown",
   "id": "a3cd9374",
   "metadata": {},
   "source": [
    "---\n",
    "title:  \"Memory-Mapped Polars DataFrames and File Deletion in Linux\"\n",
    "subtitle: \"\"\n",
    "tag: \"Python\"\n",
    "layout: post\n",
    "excerpt: \"\"\n",
    "---\n",
    "\n",
    "Key takeaways:\n",
    "\n",
    "1. **File Deletion (`unlink`)**:\n",
    "   - Removes the file’s *directory entry* (its name/path).\n",
    "   - **Does *not* immediately remove the file’s data** if it's still opened by any process (via `open` or `mmap`).\n",
    "   - The file’s **inode and data blocks** remain alive in the filesystem.\n",
    "2. **Write After Delete**:\n",
    "   - If a process holds an open file descriptor (or readable/writable mmap), it can **continue to read/write to the file**.\n",
    "   - The data **goes to the same inode**, and is preserved in memory or on disk.\n",
    "   - However, the file has **no name** in the filesystem anymore—it's \"anonymous\" until the process releases it.\n",
    "3. **When the Process Exits**:\n",
    "   - Once all file descriptors and memory mappings are closed, the kernel **frees the inode and reclaims the space**.\n",
    "   - Any written data that was not persisted elsewhere is lost forever.\n",
    "\n",
    "\n",
    "Memory mapping is a widely used technique to optimize memory usage and minimize unnecessary I/O operations.  \n",
    "Polars, a fast DataFrame library in Rust and Python, supports memory mapping for reading and writing DataFrames using the **Feather** file format—a simple, user-friendly flavor of the Arrow IPC format.\n",
    "\n",
    "For performance reasons, we leverage Polars DataFrames to help reduce memory consumption when processing large volumes of data.\n",
    "\n",
    "---\n",
    "\n",
    "## Background\n",
    "\n",
    "As many Python developers know, the Global Interpreter Lock (GIL) limits true thread-based parallelism for CPU-bound tasks (at least for now!). As a result, users often turn to **process-based parallelism**.  \n",
    "When parallelizing workloads over large datasets, it becomes important to efficiently share data across processes. Copying gigabytes of data for each worker would be highly inefficient, both in terms of time and memory.\n",
    "\n",
    "This is where **memory mapping** becomes incredibly useful:  \n",
    "It allows multiple processes to access the same data **in memory** (read-only in this case) without duplicating it—saving substantial time and system resources.\n",
    "\n",
    "---\n",
    "\n",
    "## The Challenge\n",
    "\n",
    "In my setup, I initially had **200 files** of **1 GB** each, ordered by date. Each processing task required reading data from **two sequential dates**. So for each task, I would need to read **2 GB** of data into memory if the work is parallelized to distinct processes.\n",
    "\n",
    "My original approach:\n",
    "- When a file was accessed for the first time, it would be read from the disk (compressed) and saved into a shared memory file.\n",
    "- This shared memory was then memory-mapped into each worker process using Polars.\n",
    "\n",
    "The results were excellent:\n",
    "- Multiple processes could share the same memory-mapped data efficiently.\n",
    "- Memory usage dropped from **400 GB** to around **200 GB**, which was critical since the machine only had **512 GB** of RAM.\n",
    "- At Python's exit, I registered a cleanup function to delete these temporary shared files.\n",
    "\n",
    "---\n",
    "\n",
    "## Scaling Problem\n",
    "\n",
    "However, the situation changed when the workload increased to **1000 files**, each still **1 GB**.\n",
    "\n",
    "At this scale, I could no longer defer cleanup until the end. Instead, files had to be deleted **dynamically** as soon as they were no longer needed, to avoid running out of memory and disk space during computation.\n",
    "\n",
    "Inspired by **C++ shared pointers**, I implemented a **reference counting** mechanism:\n",
    "- A simple text file would track how many processes were still using each shared file.\n",
    "- When the reference count dropped to zero, the file would be safely deleted.\n",
    "\n",
    "---\n",
    "\n",
    "## The Core Question\n",
    "\n",
    "At this point, a critical question arose:\n",
    "\n",
    "> **What happens if a file is memory-mapped into a process (e.g., via a Polars DataFrame), and another process deletes the underlying file?**\n",
    "\n",
    "Would the memory mapping still work? Would the process crash? Would there be subtle corruption?\n",
    "\n",
    "---\n",
    "\n",
    "## Experiment Time\n",
    "\n",
    "Let’s dive into an experiment to find out.\n"
   ]
  },
  {
   "cell_type": "code",
   "execution_count": 12,
   "id": "3e1772c9",
   "metadata": {},
   "outputs": [],
   "source": [
    "import os\n",
    "import psutil\n",
    "import polars as pl\n",
    "import numpy as np\n",
    "\n",
    "if os.path.exists(\"/dev/shm/tmp.feather\"):\n",
    "    os.remove(\"/dev/shm/tmp.feather\")\n",
    "\n",
    "# create a large DataFrame with random data\n",
    "a = np.random.randn(10**9)\n",
    "b = pl.DataFrame(a)\n",
    "# save the DataFrame to a uncompressed feather file\n",
    "b.write_ipc(\"/dev/shm/tmp.feather\", compression=\"uncompressed\")\n"
   ]
  },
  {
   "cell_type": "code",
   "execution_count": 6,
   "id": "18de6c6e",
   "metadata": {},
   "outputs": [],
   "source": [
    "%reset"
   ]
  },
  {
   "cell_type": "code",
   "execution_count": 7,
   "id": "be155031",
   "metadata": {},
   "outputs": [
    {
     "name": "stdout",
     "output_type": "stream",
     "text": [
      "Total Memory: 515866.79 MB\n",
      "Available Memory: 498916.36 MB\n",
      "Used Memory: 6385.39 MB\n",
      "Free Memory: 497244.23 MB\n",
      "active: 920.27 MB\n",
      "inactive: 15717.31 MB\n",
      "buffered: 8.88 MB\n",
      "cached: 12228.29 MB\n",
      "shared: 7638.29 MB\n",
      "slab: 712.84 MB\n"
     ]
    }
   ],
   "source": [
    "import os\n",
    "import psutil\n",
    "import polars as pl\n",
    "import numpy as np\n",
    "\n",
    "# define a printing function for memory monitor\n",
    "def get_current_memory_usage(prev=None):\n",
    "    memory = psutil.virtual_memory()\n",
    "    if prev is None:\n",
    "        # print all types of memory in MB\n",
    "        print(f\"Total Memory: {memory.total / (1024 ** 2):.2f} MB\")\n",
    "        print(f\"Available Memory: {memory.available / (1024 ** 2):.2f} MB\")\n",
    "        print(f\"Used Memory: {memory.used / (1024 ** 2):.2f} MB\")\n",
    "        print(f\"Free Memory: {memory.free / (1024 ** 2):.2f} MB\")\n",
    "        print(f\"active: {memory.active / (1024 ** 2):.2f} MB\")\n",
    "        print(f\"inactive: {memory.inactive / (1024 ** 2):.2f} MB\")\n",
    "        print(f\"buffered: {memory.buffers / (1024 ** 2):.2f} MB\")\n",
    "        print(f\"cached: {memory.cached / (1024 ** 2):.2f} MB\")\n",
    "        print(f\"shared: {memory.shared / (1024 ** 2):.2f} MB\")\n",
    "        print(f\"slab: {memory.slab / (1024 ** 2):.2f} MB\")\n",
    "    else:\n",
    "        # print the difference in memory usage\n",
    "        print(f\"Avail Change: {memory.available / (1024 ** 2) - prev.available / (1024 ** 2):+.2f} MB\")\n",
    "        print(f\"Used Change: {memory.used / (1024 ** 2) - prev.used / (1024 ** 2):+.2f} MB\")\n",
    "        print(f\"Free Change: {memory.free / (1024 ** 2) - prev.free / (1024 ** 2):+.2f} MB\")\n",
    "        print(f\"active Change: {memory.active / (1024 ** 2) - prev.active / (1024 ** 2):+.2f} MB\")\n",
    "        print(f\"inactive Change: {memory.inactive / (1024 ** 2) - prev.inactive / (1024 ** 2):+.2f} MB\")\n",
    "        print(f\"buffered Change: {memory.buffers / (1024 ** 2) - prev.buffers / (1024 ** 2):+.2f} MB\")\n",
    "        print(f\"cached Change: {memory.cached / (1024 ** 2) - prev.cached / (1024 ** 2):+.2f} MB\")\n",
    "        print(f\"shared Change: {memory.shared / (1024 ** 2) - prev.shared / (1024 ** 2):+.2f} MB\")\n",
    "        print(f\"slab Change: {memory.slab / (1024 ** 2) - prev.slab / (1024 ** 2):+.2f} MB\")\n",
    "    return memory\n",
    "\n",
    "prev = get_current_memory_usage()"
   ]
  },
  {
   "cell_type": "code",
   "execution_count": 8,
   "id": "a82c07f8",
   "metadata": {},
   "outputs": [
    {
     "name": "stdout",
     "output_type": "stream",
     "text": [
      "Avail Change: -17.41 MB\n",
      "Used Change: +16.57 MB\n",
      "Free Change: -17.51 MB\n",
      "active Change: +0.85 MB\n",
      "inactive Change: +10.88 MB\n",
      "buffered Change: +0.00 MB\n",
      "cached Change: +0.94 MB\n",
      "shared Change: +0.86 MB\n",
      "slab Change: +0.30 MB\n"
     ]
    }
   ],
   "source": [
    "c = pl.read_ipc(\"/dev/shm/tmp.feather\", memory_map=True)\n",
    "prev = get_current_memory_usage(prev)"
   ]
  },
  {
   "cell_type": "code",
   "execution_count": 9,
   "id": "ed3ee84f",
   "metadata": {},
   "outputs": [
    {
     "name": "stdout",
     "output_type": "stream",
     "text": [
      "Avail Change: +5.14 MB\n",
      "Used Change: -5.60 MB\n",
      "Free Change: +5.08 MB\n",
      "active Change: +0.43 MB\n",
      "inactive Change: +6.89 MB\n",
      "buffered Change: +0.00 MB\n",
      "cached Change: +0.52 MB\n",
      "shared Change: +0.44 MB\n",
      "slab Change: -0.07 MB\n"
     ]
    }
   ],
   "source": [
    "import os\n",
    "os.remove(\"/dev/shm/tmp.feather\")\n",
    "prev = get_current_memory_usage(prev)"
   ]
  },
  {
   "cell_type": "code",
   "execution_count": 10,
   "id": "0a1a6f33",
   "metadata": {},
   "outputs": [
    {
     "name": "stdout",
     "output_type": "stream",
     "text": [
      "Avail Change: +7630.62 MB\n",
      "Used Change: +6.18 MB\n",
      "Free Change: +7638.85 MB\n",
      "active Change: +0.45 MB\n",
      "inactive Change: -7627.67 MB\n",
      "buffered Change: +0.00 MB\n",
      "cached Change: -7645.03 MB\n",
      "shared Change: -7628.55 MB\n",
      "slab Change: -16.83 MB\n"
     ]
    }
   ],
   "source": [
    "# remove dataframe\n",
    "del c\n",
    "prev = get_current_memory_usage(prev)"
   ]
  },
  {
   "cell_type": "markdown",
   "id": "c32c5ad8",
   "metadata": {},
   "source": [
    "From the experiment above, we observe an interesting result:\n",
    "Even after the file is deleted from /dev/shm, the memory-mapped data remains accessible.\n",
    "\n",
    "This naturally leads to the question: What does file deletion actually mean?\n",
    "\n",
    "Fortunately, the answer isn't too complicated.\n",
    "Linux manages files through file descriptors (fd) and memory mappings (mmap), maintaining internal references even after a file is \"deleted.\"\n",
    "\n",
    "Based on our experiment, we can infer that deleting a file primarily means removing its entry from the directory tree—not immediately erasing its data from storage.\n",
    "The underlying inode (the actual file data structure) persists until all references to it (open file descriptors or active memory mappings) are closed. Only then is the storage space reclaimed.\n",
    "\n",
    "This behavior isn't unique to memory-mapped files in /dev/shm;\n",
    "It applies to files on traditional disk storage as well.\n",
    "Disk space is only reclaimed once no process holds an open file descriptor or a memory mapping to the deleted file.\n",
    "\n",
    "---\n",
    "\n",
    "Note: the texts are partially generated by AI.\n"
   ]
  }
 ],
 "metadata": {
  "kernelspec": {
   "display_name": "Python 3",
   "language": "python",
   "name": "python3"
  },
  "language_info": {
   "codemirror_mode": {
    "name": "ipython",
    "version": 3
   },
   "file_extension": ".py",
   "mimetype": "text/x-python",
   "name": "python",
   "nbconvert_exporter": "python",
   "pygments_lexer": "ipython3",
   "version": "3.10.13"
  }
 },
 "nbformat": 4,
 "nbformat_minor": 5
}
